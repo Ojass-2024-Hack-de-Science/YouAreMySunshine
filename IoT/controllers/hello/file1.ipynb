{
 "cells": [
  {
   "cell_type": "code",
   "execution_count": 2,
   "metadata": {},
   "outputs": [
    {
     "name": "stdout",
     "output_type": "stream",
     "text": [
      "[45.62532424926758, 14.787566184997559, 14.052435874938965, 7.437169551849365]\n"
     ]
    },
    {
     "ename": "SystemExit",
     "evalue": "",
     "output_type": "error",
     "traceback": [
      "An exception has occurred, use %tb to see the full traceback.\n",
      "\u001b[1;31mSystemExit\u001b[0m\n"
     ]
    },
    {
     "name": "stderr",
     "output_type": "stream",
     "text": [
      "C:\\Users\\hp\\AppData\\Roaming\\Python\\Python311\\site-packages\\IPython\\core\\interactiveshell.py:3516: UserWarning: To exit: use 'exit', 'quit', or Ctrl-D.\n",
      "  warn(\"To exit: use 'exit', 'quit', or Ctrl-D.\", stacklevel=1)\n"
     ]
    }
   ],
   "source": [
    "import pygame\n",
    "import sys\n",
    "from datetime import datetime\n",
    "# Initialize Pygame\n",
    "pygame.init()\n",
    "\n",
    "# Set up the screen\n",
    "WIDTH, HEIGHT = 400, 200\n",
    "screen = pygame.display.set_mode((WIDTH, HEIGHT))\n",
    "pygame.display.set_caption(\"Traffic Lights\")\n",
    "\n",
    "# Define colors\n",
    "RED = (255, 0, 0)\n",
    "GREEN = (0, 255, 0)\n",
    "GRAY = (100, 100, 100)\n",
    "\n",
    "# Traffic light positions and sizes\n",
    "LIGHT_WIDTH, LIGHT_HEIGHT = 40, 120\n",
    "MARGIN = 20\n",
    "LIGHT_GAP = (WIDTH - 2 * MARGIN - 4 * LIGHT_WIDTH) / 3\n",
    "LIGHT_Y = HEIGHT // 2 - LIGHT_HEIGHT // 2\n",
    "\n",
    "# Initialize light states\n",
    "light_states = [0, 0, 0, 0]  # 0 for red, 1 for green\n",
    "\n",
    "current_datetime = datetime.now()\n",
    "current_data = [1,current_datetime.year, current_datetime.month, current_datetime.day, current_datetime.hour, current_datetime.weekday()]\n",
    "\n",
    "from get_vehicles import get_number_of_vehicles\n",
    "\n",
    "arr = get_number_of_vehicles(current_data)\n",
    "print(arr)\n",
    "clock = pygame.time.Clock()\n",
    "# Main loop\n",
    "while True:\n",
    "    # Event handling\n",
    "    for event in pygame.event.get():\n",
    "        if event.type == pygame.QUIT:\n",
    "            pygame.quit()\n",
    "            sys.exit()\n",
    "        elif event.type == pygame.KEYDOWN:\n",
    "            if pygame.K_1 <= event.key <= pygame.K_4:\n",
    "                light_index = event.key - pygame.K_1\n",
    "                light_states[light_index] = 1 - light_states[light_index]\n",
    "\n",
    "    # Clear the screen\n",
    "    screen.fill((255, 255, 255))\n",
    "\n",
    "    \n",
    "    for i, state in enumerate(light_states):\n",
    "        light_color = GREEN if state else RED\n",
    "        pygame.draw.rect(screen, GRAY, (MARGIN + i * (LIGHT_WIDTH + LIGHT_GAP), LIGHT_Y, LIGHT_WIDTH, LIGHT_HEIGHT))\n",
    "        pygame.draw.circle(screen, light_color,\n",
    "                           (MARGIN + i * (LIGHT_WIDTH + LIGHT_GAP) + LIGHT_WIDTH // 2, LIGHT_Y + LIGHT_HEIGHT // 4), 20)\n",
    "        pygame.draw.circle(screen, RED,\n",
    "                           (MARGIN + i * (LIGHT_WIDTH + LIGHT_GAP) + LIGHT_WIDTH // 2, LIGHT_Y + LIGHT_HEIGHT // 2), 20)\n",
    "        pygame.draw.circle(screen, RED,\n",
    "                           (MARGIN + i * (LIGHT_WIDTH + LIGHT_GAP) + LIGHT_WIDTH // 2, LIGHT_Y + 3 * LIGHT_HEIGHT // 4),\n",
    "                           20)\n",
    "\n",
    "    # Update the display\n",
    "    pygame.display.flip()\n"
   ]
  },
  {
   "cell_type": "code",
   "execution_count": 7,
   "metadata": {},
   "outputs": [
    {
     "name": "stdout",
     "output_type": "stream",
     "text": [
      "{'option': '1', 'data': [1, 2024, 4, 6, 2, 5]}\n",
      "Error: HTTPConnectionPool(host='127.0.0.1', port=5000): Max retries exceeded with url: / (Caused by NewConnectionError('<urllib3.connection.HTTPConnection object at 0x0000022CCF1E9FD0>: Failed to establish a new connection: [WinError 10061] No connection could be made because the target machine actively refused it'))\n",
      "Error: HTTPConnectionPool(host='127.0.0.1', port=5000): Max retries exceeded with url: / (Caused by NewConnectionError('<urllib3.connection.HTTPConnection object at 0x0000022CCF1E86D0>: Failed to establish a new connection: [WinError 10061] No connection could be made because the target machine actively refused it'))\n",
      "Error: HTTPConnectionPool(host='127.0.0.1', port=5000): Max retries exceeded with url: / (Caused by NewConnectionError('<urllib3.connection.HTTPConnection object at 0x0000022CCF35AB50>: Failed to establish a new connection: [WinError 10061] No connection could be made because the target machine actively refused it'))\n",
      "Error: HTTPConnectionPool(host='127.0.0.1', port=5000): Max retries exceeded with url: / (Caused by NewConnectionError('<urllib3.connection.HTTPConnection object at 0x0000022CCF368B10>: Failed to establish a new connection: [WinError 10061] No connection could be made because the target machine actively refused it'))\n"
     ]
    },
    {
     "ename": "SystemExit",
     "evalue": "",
     "output_type": "error",
     "traceback": [
      "An exception has occurred, use %tb to see the full traceback.\n",
      "\u001b[1;31mSystemExit\u001b[0m\n"
     ]
    }
   ],
   "source": [
    "import pygame\n",
    "import sys\n",
    "\n",
    "# Initialize pygame\n",
    "pygame.init()\n",
    "\n",
    "# Set up some constants\n",
    "LIGHT_WIDTH = 50\n",
    "LIGHT_HEIGHT = 150\n",
    "LIGHT_GAP = 10\n",
    "MARGIN = 20\n",
    "LIGHT_Y = 50\n",
    "GREEN = (0, 255, 0)\n",
    "RED = (255, 0, 0)\n",
    "GRAY = (200, 200, 200)\n",
    "\n",
    "# Create the screen\n",
    "screen = pygame.display.set_mode((800, 600))\n",
    "\n",
    "# Initialize light states\n",
    "light_states = [0, 0, 0, 0]\n",
    "\n",
    "from datetime import datetime\n",
    "current_datetime = datetime.now()\n",
    "current_data = [1,current_datetime.year, current_datetime.month, current_datetime.day, current_datetime.hour, current_datetime.weekday()]\n",
    "\n",
    "from get_vehicles import get_number_of_vehicles\n",
    "\n",
    "arr = get_number_of_vehicles(current_data)\n",
    "\n",
    "# Initialize the clock\n",
    "clock = pygame.time.Clock()\n",
    "\n",
    "# Initialize the light index\n",
    "light_index = 0\n",
    "\n",
    "mean_time = 100\n",
    "\n",
    "while True:\n",
    "    # Event handling\n",
    "    for event in pygame.event.get():\n",
    "        if event.type == pygame.QUIT:\n",
    "            pygame.quit()\n",
    "            sys.exit()\n",
    "\n",
    "    # Clear the screen\n",
    "    screen.fill((255, 255, 255))\n",
    "\n",
    "    # Update the light states\n",
    "    light_states = [0, 0, 0, 0]\n",
    "    light_states[light_index] = 1\n",
    "\n",
    "    # Draw the lights\n",
    "    for i, state in enumerate(light_states):\n",
    "        light_color = GREEN if state else RED\n",
    "        pygame.draw.rect(screen, GRAY, (MARGIN + i * (LIGHT_WIDTH + LIGHT_GAP), LIGHT_Y, LIGHT_WIDTH, LIGHT_HEIGHT))\n",
    "        pygame.draw.circle(screen, light_color,\n",
    "                           (MARGIN + i * (LIGHT_WIDTH + LIGHT_GAP) + LIGHT_WIDTH // 2, LIGHT_Y + LIGHT_HEIGHT // 4), 20)\n",
    "        # pygame.draw.circle(screen, RED,\n",
    "        #                    (MARGIN + i * (LIGHT_WIDTH + LIGHT_GAP) + LIGHT_WIDTH // 2, LIGHT_Y + LIGHT_HEIGHT // 2), 20)\n",
    "        # pygame.draw.circle(screen, RED,\n",
    "        #                    (MARGIN + i * (LIGHT_WIDTH + LIGHT_GAP) + LIGHT_WIDTH // 2, LIGHT_Y + 3 * LIGHT_HEIGHT // 4),\n",
    "        #                    20)\n",
    "\n",
    "    # Update the display\n",
    "    pygame.display.flip()\n",
    "\n",
    "    # Wait for a second\n",
    "    pygame.time.wait(int(mean_time * arr[light_index]))\n",
    "\n",
    "    # Update the light index\n",
    "    light_index = (light_index + 1) % len(light_states)"
   ]
  }
 ],
 "metadata": {
  "kernelspec": {
   "display_name": "Python 3",
   "language": "python",
   "name": "python3"
  },
  "language_info": {
   "codemirror_mode": {
    "name": "ipython",
    "version": 3
   },
   "file_extension": ".py",
   "mimetype": "text/x-python",
   "name": "python",
   "nbconvert_exporter": "python",
   "pygments_lexer": "ipython3",
   "version": "3.11.0"
  }
 },
 "nbformat": 4,
 "nbformat_minor": 2
}
